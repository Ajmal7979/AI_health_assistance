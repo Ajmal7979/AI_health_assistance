{
 "cells": [
  {
   "cell_type": "code",
   "execution_count": null,
   "id": "da3e8414-8fa0-4f34-aa95-34d6f6053227",
   "metadata": {},
   "outputs": [],
   "source": [
    "import pandas as pd\n",
    "import numpy as np\n",
    "import re\n",
    "from sklearn.model_selection import train_test_split\n",
    "from sklearn.preprocessing import LabelEncoder\n",
    "from sklearn.metrics import classification_report, accuracy_score, confusion_matrix\n",
    "from sklearn.linear_model import LogisticRegression\n",
    "from sklearn.naive_bayes import MultinomialNB\n",
    "from sklearn.ensemble import RandomForestClassifier, VotingClassifier\n",
    "from sklearn.feature_extraction.text import TfidfVectorizer\n",
    "import matplotlib.pyplot as plt\n",
    "import seaborn as sns\n",
    "import warnings\n",
    "warnings.filterwarnings(\"ignore\")\n"
   ]
  },
  {
   "cell_type": "code",
   "execution_count": 2,
   "id": "a4e10f6c-41c8-46fd-a171-a2da878afe30",
   "metadata": {},
   "outputs": [
    {
     "name": "stdout",
     "output_type": "stream",
     "text": [
      "✅ Data cleaned successfully.\n",
      "            disease   symptom_1              symptom_2              symptom_3  \\\n",
      "0  fungal infection     itching              skin_rash   nodal_skin_eruptions   \n",
      "1  fungal infection   skin_rash   nodal_skin_eruptions    dischromic _patches   \n",
      "2  fungal infection     itching   nodal_skin_eruptions    dischromic _patches   \n",
      "3  fungal infection     itching              skin_rash    dischromic _patches   \n",
      "4  fungal infection     itching              skin_rash   nodal_skin_eruptions   \n",
      "\n",
      "              symptom_4 symptom_5 symptom_6 symptom_7 symptom_8 symptom_9  \\\n",
      "0   dischromic _patches       NaN       NaN       NaN       NaN       NaN   \n",
      "1                   NaN       NaN       NaN       NaN       NaN       NaN   \n",
      "2                   NaN       NaN       NaN       NaN       NaN       NaN   \n",
      "3                   NaN       NaN       NaN       NaN       NaN       NaN   \n",
      "4                   NaN       NaN       NaN       NaN       NaN       NaN   \n",
      "\n",
      "  symptom_10 symptom_11 symptom_12 symptom_13 symptom_14 symptom_15  \\\n",
      "0        NaN        NaN        NaN        NaN        NaN        NaN   \n",
      "1        NaN        NaN        NaN        NaN        NaN        NaN   \n",
      "2        NaN        NaN        NaN        NaN        NaN        NaN   \n",
      "3        NaN        NaN        NaN        NaN        NaN        NaN   \n",
      "4        NaN        NaN        NaN        NaN        NaN        NaN   \n",
      "\n",
      "  symptom_16 symptom_17                                           symptoms  \n",
      "0        NaN        NaN  itching, skinrash, nodalskineruptions, dischro...  \n",
      "1        NaN        NaN   skinrash, nodalskineruptions, dischromic patc...  \n",
      "2        NaN        NaN  itching, nodalskineruptions, dischromic patche...  \n",
      "3        NaN        NaN  itching, skinrash, dischromic patches,nan,nan,...  \n",
      "4        NaN        NaN  itching, skinrash, nodalskineruptions,nan,nan,...  \n"
     ]
    }
   ],
   "source": [
    "symptom_df = pd.read_csv(\"C:/Users/M F Mohamed Ajmal/OneDrive/Desktop/project/healthcare_project/DiseaseAndSymptoms.csv\")\n",
    "precaution_df = pd.read_csv(\"C:/Users/M F Mohamed Ajmal/OneDrive/Desktop/project/healthcare_project/Disease precaution.csv\")\n",
    "\n",
    "# Clean column names\n",
    "symptom_df.columns = [c.strip().lower().replace(\" \", \"_\") for c in symptom_df.columns]\n",
    "precaution_df.columns = [c.strip().lower().replace(\" \", \"_\") for c in precaution_df.columns]\n",
    "\n",
    "# Combine all symptom columns into one\n",
    "symptom_cols = [c for c in symptom_df.columns if \"symptom\" in c]\n",
    "symptom_df[\"symptoms\"] = symptom_df[symptom_cols].astype(str).apply(lambda x: \",\".join(x.dropna().values), axis=1)\n",
    "\n",
    "# Clean text\n",
    "symptom_df[\"symptoms\"] = symptom_df[\"symptoms\"].apply(lambda x: re.sub(r\"[^a-zA-Z, ]\", \"\", x.lower()))\n",
    "symptom_df[\"disease\"] = symptom_df[\"disease\"].astype(str).str.strip().str.lower()\n",
    "\n",
    "# Drop empty rows\n",
    "symptom_df.dropna(subset=[\"symptoms\", \"disease\"], inplace=True)\n",
    "\n",
    "print(\"✅ Data cleaned successfully.\")\n",
    "print(symptom_df.head())\n"
   ]
  },
  {
   "cell_type": "code",
   "execution_count": 3,
   "id": "0e88f0f9-9ab2-4f97-9f14-a9689503e80f",
   "metadata": {},
   "outputs": [],
   "source": [
    "X = symptom_df[\"symptoms\"]\n",
    "y = symptom_df[\"disease\"]\n",
    "\n",
    "encoder = LabelEncoder()\n",
    "y_encoded = encoder.fit_transform(y)\n",
    "\n",
    "vectorizer = TfidfVectorizer(max_features=2000)\n",
    "X_vec = vectorizer.fit_transform(X)\n",
    "\n",
    "X_train, X_test, y_train, y_test = train_test_split(\n",
    "    X_vec, y_encoded, test_size=0.2, random_state=42, stratify=y_encoded\n",
    ")\n"
   ]
  },
  {
   "cell_type": "code",
   "execution_count": 4,
   "id": "e61ed81a-9fbc-40da-9e4d-d525b80c43d6",
   "metadata": {},
   "outputs": [
    {
     "name": "stdout",
     "output_type": "stream",
     "text": [
      "🎯 Accuracy: 100.0 %\n",
      "                                         precision    recall  f1-score   support\n",
      "\n",
      "(vertigo) paroymsal  positional vertigo       1.00      1.00      1.00        24\n",
      "                                   acne       1.00      1.00      1.00        24\n",
      "                                   aids       1.00      1.00      1.00        24\n",
      "                    alcoholic hepatitis       1.00      1.00      1.00        24\n",
      "                                allergy       1.00      1.00      1.00        24\n",
      "                              arthritis       1.00      1.00      1.00        24\n",
      "                       bronchial asthma       1.00      1.00      1.00        24\n",
      "                   cervical spondylosis       1.00      1.00      1.00        24\n",
      "                            chicken pox       1.00      1.00      1.00        24\n",
      "                    chronic cholestasis       1.00      1.00      1.00        24\n",
      "                            common cold       1.00      1.00      1.00        24\n",
      "                                 dengue       1.00      1.00      1.00        24\n",
      "                               diabetes       1.00      1.00      1.00        24\n",
      "           dimorphic hemmorhoids(piles)       1.00      1.00      1.00        24\n",
      "                          drug reaction       1.00      1.00      1.00        24\n",
      "                       fungal infection       1.00      1.00      1.00        24\n",
      "                        gastroenteritis       1.00      1.00      1.00        24\n",
      "                                   gerd       1.00      1.00      1.00        24\n",
      "                           heart attack       1.00      1.00      1.00        24\n",
      "                            hepatitis a       1.00      1.00      1.00        24\n",
      "                            hepatitis b       1.00      1.00      1.00        24\n",
      "                            hepatitis c       1.00      1.00      1.00        24\n",
      "                            hepatitis d       1.00      1.00      1.00        24\n",
      "                            hepatitis e       1.00      1.00      1.00        24\n",
      "                           hypertension       1.00      1.00      1.00        24\n",
      "                        hyperthyroidism       1.00      1.00      1.00        24\n",
      "                           hypoglycemia       1.00      1.00      1.00        24\n",
      "                         hypothyroidism       1.00      1.00      1.00        24\n",
      "                               impetigo       1.00      1.00      1.00        24\n",
      "                               jaundice       1.00      1.00      1.00        24\n",
      "                                malaria       1.00      1.00      1.00        24\n",
      "                               migraine       1.00      1.00      1.00        24\n",
      "                        osteoarthristis       1.00      1.00      1.00        24\n",
      "           paralysis (brain hemorrhage)       1.00      1.00      1.00        24\n",
      "                    peptic ulcer diseae       1.00      1.00      1.00        24\n",
      "                              pneumonia       1.00      1.00      1.00        24\n",
      "                              psoriasis       1.00      1.00      1.00        24\n",
      "                           tuberculosis       1.00      1.00      1.00        24\n",
      "                                typhoid       1.00      1.00      1.00        24\n",
      "                urinary tract infection       1.00      1.00      1.00        24\n",
      "                         varicose veins       1.00      1.00      1.00        24\n",
      "\n",
      "                               accuracy                           1.00       984\n",
      "                              macro avg       1.00      1.00      1.00       984\n",
      "                           weighted avg       1.00      1.00      1.00       984\n",
      "\n"
     ]
    }
   ],
   "source": [
    "lr = LogisticRegression(max_iter=1000)\n",
    "nb = MultinomialNB()\n",
    "rf = RandomForestClassifier(n_estimators=200, random_state=42)\n",
    "\n",
    "voting_model = VotingClassifier(\n",
    "    estimators=[(\"lr\", lr), (\"nb\", nb), (\"rf\", rf)],\n",
    "    voting=\"hard\"\n",
    ")\n",
    "\n",
    "voting_model.fit(X_train, y_train)\n",
    "y_pred = voting_model.predict(X_test)\n",
    "\n",
    "print(\"🎯 Accuracy:\", round(accuracy_score(y_test, y_pred) * 100, 2), \"%\")\n",
    "print(classification_report(y_test, y_pred, target_names=encoder.classes_))\n"
   ]
  },
  {
   "cell_type": "code",
   "execution_count": 5,
   "id": "b2477e87-55e0-4219-b7af-eb2a76deea12",
   "metadata": {},
   "outputs": [],
   "source": [
    "department_map = {\n",
    "    'cold': 'General Physician',\n",
    "    'flu': 'General Physician',\n",
    "    'fever': 'General Physician',\n",
    "    'typhoid': 'General Physician',\n",
    "    'covid': 'General Physician',\n",
    "    'dengue': 'General Physician',\n",
    "    'malaria': 'Infectious Disease Specialist',\n",
    "    'asthma': 'Pulmonologist',\n",
    "    'bronchitis': 'Pulmonologist',\n",
    "    'pneumonia': 'Pulmonologist',\n",
    "    'tuberculosis': 'Pulmonologist',\n",
    "    'stomach infection': 'Gastroenterologist',\n",
    "    'ulcer': 'Gastroenterologist',\n",
    "    'food poisoning': 'Gastroenterologist',\n",
    "    'hepatitis': 'Gastroenterologist',\n",
    "    'allergy': 'Dermatologist',\n",
    "    'chicken pox': 'Dermatologist',\n",
    "    'eczema': 'Dermatologist',\n",
    "    'hypertension': 'Cardiologist',\n",
    "    'heart attack': 'Cardiologist',\n",
    "    'migraine': 'Neurologist',\n",
    "    'parkinson': 'Neurologist',\n",
    "    'depression': 'Psychiatrist',\n",
    "    'anxiety': 'Psychiatrist',\n",
    "    'arthritis': 'Orthopedic',\n",
    "    'anemia': 'Hematologist'\n",
    "}\n"
   ]
  },
  {
   "cell_type": "code",
   "execution_count": 13,
   "id": "f67d6a90-10c4-43c6-b1dc-4e7a2e4f3be9",
   "metadata": {},
   "outputs": [
    {
     "name": "stdout",
     "output_type": "stream",
     "text": [
      "Accuracy: 1.0\n",
      "[[24  0  0 ...  0  0  0]\n",
      " [ 0 24  0 ...  0  0  0]\n",
      " [ 0  0 24 ...  0  0  0]\n",
      " ...\n",
      " [ 0  0  0 ... 24  0  0]\n",
      " [ 0  0  0 ...  0 24  0]\n",
      " [ 0  0  0 ...  0  0 24]]\n",
      "                                         precision    recall  f1-score   support\n",
      "\n",
      "(vertigo) paroymsal  positional vertigo       1.00      1.00      1.00        24\n",
      "                                   acne       1.00      1.00      1.00        24\n",
      "                                   aids       1.00      1.00      1.00        24\n",
      "                    alcoholic hepatitis       1.00      1.00      1.00        24\n",
      "                                allergy       1.00      1.00      1.00        24\n",
      "                              arthritis       1.00      1.00      1.00        24\n",
      "                       bronchial asthma       1.00      1.00      1.00        24\n",
      "                   cervical spondylosis       1.00      1.00      1.00        24\n",
      "                            chicken pox       1.00      1.00      1.00        24\n",
      "                    chronic cholestasis       1.00      1.00      1.00        24\n",
      "                            common cold       1.00      1.00      1.00        24\n",
      "                                 dengue       1.00      1.00      1.00        24\n",
      "                               diabetes       1.00      1.00      1.00        24\n",
      "           dimorphic hemmorhoids(piles)       1.00      1.00      1.00        24\n",
      "                          drug reaction       1.00      1.00      1.00        24\n",
      "                       fungal infection       1.00      1.00      1.00        24\n",
      "                        gastroenteritis       1.00      1.00      1.00        24\n",
      "                                   gerd       1.00      1.00      1.00        24\n",
      "                           heart attack       1.00      1.00      1.00        24\n",
      "                            hepatitis a       1.00      1.00      1.00        24\n",
      "                            hepatitis b       1.00      1.00      1.00        24\n",
      "                            hepatitis c       1.00      1.00      1.00        24\n",
      "                            hepatitis d       1.00      1.00      1.00        24\n",
      "                            hepatitis e       1.00      1.00      1.00        24\n",
      "                           hypertension       1.00      1.00      1.00        24\n",
      "                        hyperthyroidism       1.00      1.00      1.00        24\n",
      "                           hypoglycemia       1.00      1.00      1.00        24\n",
      "                         hypothyroidism       1.00      1.00      1.00        24\n",
      "                               impetigo       1.00      1.00      1.00        24\n",
      "                               jaundice       1.00      1.00      1.00        24\n",
      "                                malaria       1.00      1.00      1.00        24\n",
      "                               migraine       1.00      1.00      1.00        24\n",
      "                        osteoarthristis       1.00      1.00      1.00        24\n",
      "           paralysis (brain hemorrhage)       1.00      1.00      1.00        24\n",
      "                    peptic ulcer diseae       1.00      1.00      1.00        24\n",
      "                              pneumonia       1.00      1.00      1.00        24\n",
      "                              psoriasis       1.00      1.00      1.00        24\n",
      "                           tuberculosis       1.00      1.00      1.00        24\n",
      "                                typhoid       1.00      1.00      1.00        24\n",
      "                urinary tract infection       1.00      1.00      1.00        24\n",
      "                         varicose veins       1.00      1.00      1.00        24\n",
      "\n",
      "                               accuracy                           1.00       984\n",
      "                              macro avg       1.00      1.00      1.00       984\n",
      "                           weighted avg       1.00      1.00      1.00       984\n",
      "\n"
     ]
    }
   ],
   "source": [
    "from sklearn.metrics import confusion_matrix, classification_report\n",
    "\n",
    "y_pred = voting_model.predict(X_test)\n",
    "\n",
    "# Overall accuracy\n",
    "from sklearn.metrics import accuracy_score\n",
    "print(\"Accuracy:\", accuracy_score(y_test, y_pred))\n",
    "\n",
    "# Confusion matrix\n",
    "cm = confusion_matrix(y_test, y_pred)\n",
    "print(cm)\n",
    "\n",
    "# Classification report\n",
    "print(classification_report(y_test, y_pred, target_names=encoder.classes_))\n"
   ]
  },
  {
   "cell_type": "code",
   "execution_count": 10,
   "id": "14b64af6-4077-4a07-84c7-2c24e095d021",
   "metadata": {},
   "outputs": [
    {
     "data": {
      "image/png": "[encoded data removed]",
      "text/plain": [
       "<Figure size 1000x500 with 1 Axes>"
      ]
     },
     "metadata": {},
     "output_type": "display_data"
    }
   ],
   "source": [
    "# Cell 9: Most frequent symptoms\n",
    "symptom_list = [s.strip() for row in symptom_df['symptoms'] for s in row.split(',') if s.strip()]\n",
    "symptom_freq = pd.Series(symptom_list).value_counts().head(15)\n",
    "\n",
    "plt.figure(figsize=(10, 5))\n",
    "sns.barplot(x=symptom_freq.values, y=symptom_freq.index, palette='viridis')\n",
    "plt.title('Top 15 Most Common Symptoms')\n",
    "plt.xlabel('Frequency')\n",
    "plt.ylabel('Symptom')\n",
    "plt.show()\n"
   ]
  },
  {
   "cell_type": "code",
   "execution_count": 6,
   "id": "15a1a932-365d-4dbc-9936-7cb295c204ed",
   "metadata": {},
   "outputs": [],
   "source": [
    "def get_precautions(disease_name):\n",
    "    row = precaution_df[precaution_df['disease'].str.lower() == disease_name.lower()]\n",
    "    if not row.empty:\n",
    "        return [row.iloc[0][col] for col in precaution_df.columns if \"precaution\" in col.lower() and pd.notna(row.iloc[0][col])]\n",
    "    return [\"No specific precautions available.\"]\n",
    "\n",
    "def predict_disease(symptoms_input):\n",
    "    cleaned = re.sub(r'[^a-zA-Z, ]', '', symptoms_input.lower()).strip()\n",
    "    X_input = vectorizer.transform([cleaned])\n",
    "    pred_encoded = voting_model.predict(X_input)[0]\n",
    "    final_disease = encoder.inverse_transform([pred_encoded])[0]\n",
    "    return final_disease\n",
    "\n",
    "def get_severity_message(days):\n",
    "    if days <= 2:\n",
    "        return \"🟢 Mild: Usually resolves in 2–3 days.\"\n",
    "    elif 3 <= days <= 5:\n",
    "        return \"🟡 Moderate: Should visit doctor if no improvement.\"\n",
    "    else:\n",
    "        return \"🔴 Severe: Consult a doctor immediately!\"\n"
   ]
  },
  {
   "cell_type": "code",
   "execution_count": 14,
   "id": "83b619ac-fe9f-4be1-a171-5c2bee08c3dd",
   "metadata": {},
   "outputs": [],
   "source": [
    "def predict_disease_with_confidence(symptoms_input):\n",
    "    cleaned = normalize_symptoms(re.sub(r'[^a-zA-Z, ]', '', symptoms_input.lower()).strip())\n",
    "    X_input = vectorizer.transform([cleaned])\n",
    "    probs = voting_model.predict_proba(X_input)[0]\n",
    "    top_indices = np.argsort(probs)[::-1][:3]\n",
    "    top_diseases = encoder.inverse_transform(top_indices)\n",
    "    return list(zip(top_diseases, probs[top_indices]))\n"
   ]
  },
  {
   "cell_type": "code",
   "execution_count": 8,
   "id": "e90eda66-a533-47a3-89ff-12c78f645141",
   "metadata": {},
   "outputs": [
    {
     "name": "stdout",
     "output_type": "stream",
     "text": [
      "👋 Hi, I’m your Health Assistant! Let’s begin your check-up.\n",
      "\n"
     ]
    },
    {
     "name": "stdout",
     "output_type": "stream",
     "text": [
      "🩹 Please enter your symptoms (comma-separated):  cold,fever\n",
      "📅 How many days have you had these symptoms?  3\n"
     ]
    },
    {
     "name": "stdout",
     "output_type": "stream",
     "text": [
      "\n",
      "============================================\n",
      "🦠 Predicted Disease: Common Cold\n",
      "🏥 Department to Visit: General Physician\n",
      "⏱️ Duration: 3 days\n",
      "⚕️ Severity: 🟡 Moderate: Should visit doctor if no improvement.\n",
      "\n",
      "💊 Recommended Precautions:\n",
      "  1. drink vitamin c rich drinks\n",
      "  2. take vapour\n",
      "  3. avoid cold food\n",
      "  4. keep fever in check\n",
      "============================================\n"
     ]
    }
   ],
   "source": [
    "print(\"👋 Hi, I’m your Health Assistant! Let’s begin your check-up.\\n\")\n",
    "\n",
    "symptoms = input(\"🩹 Please enter your symptoms (comma-separated): \")\n",
    "days = int(input(\"📅 How many days have you had these symptoms? \"))\n",
    "\n",
    "predicted_disease = predict_disease(symptoms)\n",
    "department = department_map.get(predicted_disease.lower(), \"General Physician\")\n",
    "precautions = get_precautions(predicted_disease)\n",
    "severity_message = get_severity_message(days)\n",
    "\n",
    "print(\"\\n============================================\")\n",
    "print(f\"🦠 Predicted Disease: {predicted_disease.title()}\")\n",
    "print(f\"🏥 Department to Visit: {department}\")\n",
    "print(f\"⏱️ Duration: {days} days\")\n",
    "print(f\"⚕️ Severity: {severity_message}\")\n",
    "print(\"\\n💊 Recommended Precautions:\")\n",
    "for i, p in enumerate(precautions, 1):\n",
    "    print(f\"  {i}. {p}\")\n",
    "print(\"============================================\")\n"
   ]
  },
  {
   "cell_type": "code",
   "execution_count": 9,
   "id": "e4c52ee2-1b6d-470e-820f-6c63acf55205",
   "metadata": {},
   "outputs": [
    {
     "name": "stdout",
     "output_type": "stream",
     "text": [
      "✅ Model and encoders saved successfully.\n"
     ]
    }
   ],
   "source": [
    "import joblib\n",
    "\n",
    "joblib.dump(voting_model, \"disease_modelv3.pkl\")\n",
    "joblib.dump(vectorizer, \"tfidf_vectorizerv3.pkl\")\n",
    "joblib.dump(encoder, \"label_encoderv3.pkl\")\n",
    "\n",
    "print(\"✅ Model and encoders saved successfully.\")\n"
   ]
  },
  {
   "cell_type": "code",
   "execution_count": null,
   "id": "5e191071-cee6-4843-8153-7e94cfe72ad7",
   "metadata": {},
   "outputs": [],
   "source": []
  }
 ],
 "metadata": {
  "kernelspec": {
   "display_name": "Python 3 (ipykernel)",
   "language": "python",
   "name": "python3"
  },
  "language_info": {
   "codemirror_mode": {
    "name": "ipython",
    "version": 3
   },
   "file_extension": ".py",
   "mimetype": "text/x-python",
   "name": "python",
   "nbconvert_exporter": "python",
   "pygments_lexer": "ipython3",
   "version": "3.13.5"
  }
 },
 "nbformat": 4,
 "nbformat_minor": 5
}
